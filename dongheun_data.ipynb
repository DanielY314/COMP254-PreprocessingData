{
 "cells": [
  {
   "cell_type": "markdown",
   "id": "4d8c5096",
   "metadata": {},
   "source": [
    "# Exercise #1 - Pandas"
   ]
  },
  {
   "cell_type": "markdown",
   "id": "0168e39f",
   "metadata": {},
   "source": [
    "### 1. Init from dict"
   ]
  },
  {
   "cell_type": "code",
   "execution_count": 2,
   "id": "019651d5",
   "metadata": {},
   "outputs": [],
   "source": [
    "import pandas as pd"
   ]
  },
  {
   "cell_type": "code",
   "execution_count": 3,
   "id": "e27a6c79",
   "metadata": {},
   "outputs": [],
   "source": [
    "#1.\tCreate a new dictionary, name it your firstname where firstname _fruits is your first name.\n",
    "dongheun_fruits = {}"
   ]
  },
  {
   "cell_type": "code",
   "execution_count": 4,
   "id": "4b08256e",
   "metadata": {},
   "outputs": [
    {
     "name": "stdout",
     "output_type": "stream",
     "text": [
      "{'orange': 'orange', 'apple': 'red', 'banana': 'yellow', 'grapes': 'purple'}\n"
     ]
    }
   ],
   "source": [
    "#2.\tAdd four items to the dictionary with names of your favorite fruits as keys and the respective color as values.\n",
    "dongheun_fruits['orange'] = 'orange';\n",
    "dongheun_fruits['apple'] = 'red';\n",
    "dongheun_fruits['banana'] = 'yellow';\n",
    "dongheun_fruits['grapes'] = 'purple';\n",
    "\n",
    "print(dongheun_fruits)"
   ]
  },
  {
   "cell_type": "code",
   "execution_count": 5,
   "id": "dfbb6efe",
   "metadata": {},
   "outputs": [],
   "source": [
    "#3.\tConvert the dictionary into a pandas series named firstname_f.\n",
    "dongheun_f = pd.Series(dongheun_fruits)"
   ]
  },
  {
   "cell_type": "code",
   "execution_count": 6,
   "id": "63eb9629",
   "metadata": {},
   "outputs": [
    {
     "name": "stdout",
     "output_type": "stream",
     "text": [
      "Second and third items from the series:\n",
      "apple        red\n",
      "banana    yellow\n",
      "dtype: object\n"
     ]
    }
   ],
   "source": [
    "#4.\tPrint out the second and third items.\n",
    "print(\"Second and third items from the series:\")\n",
    "print(dongheun_f[1:3])"
   ]
  },
  {
   "cell_type": "code",
   "execution_count": 7,
   "id": "575f8380",
   "metadata": {},
   "outputs": [],
   "source": [
    "#5.\tCreate a sub series named firstname_f2 containing the second and third items.\n",
    "dongheun_f2 = dongheun_f[1:3]"
   ]
  },
  {
   "cell_type": "code",
   "execution_count": 8,
   "id": "c3ff6365",
   "metadata": {},
   "outputs": [
    {
     "name": "stdout",
     "output_type": "stream",
     "text": [
      "yellow\n"
     ]
    }
   ],
   "source": [
    "#6.\tPrintout from the sub series the last item using iloc.\n",
    "print(dongheun_f2.iloc[-1])"
   ]
  },
  {
   "cell_type": "markdown",
   "id": "31585e9b",
   "metadata": {},
   "source": [
    "### 2. Handling time"
   ]
  },
  {
   "cell_type": "code",
   "execution_count": 9,
   "id": "5ee86469",
   "metadata": {},
   "outputs": [],
   "source": [
    "import matplotlib.pyplot as plt"
   ]
  },
  {
   "cell_type": "code",
   "execution_count": 10,
   "id": "67b34d3d",
   "metadata": {},
   "outputs": [],
   "source": [
    "#1.\tCreate a list containing four  rainfall amounts  of values 10, 23,24,30 name the list firstname_amounts.\n",
    "dongheun_amounts = [10, 23, 24, 30]"
   ]
  },
  {
   "cell_type": "code",
   "execution_count": 11,
   "id": "cdbf7b03",
   "metadata": {},
   "outputs": [],
   "source": [
    "#2.\tUsing pandas create a date_range for todays date/time (you can set any time) with four time intervals.\n",
    "date_range = pd.date_range(start=pd.Timestamp.today(), periods=4, freq='H')\n"
   ]
  },
  {
   "cell_type": "code",
   "execution_count": 12,
   "id": "6f8fd91e",
   "metadata": {},
   "outputs": [],
   "source": [
    "#3.\tCreate a series that combines both the list and date range name it firstname_rainfall amounts_today.\n",
    "dongheun_rainfall_amounts_today = pd.Series(dongheun_amounts, index=date_range)"
   ]
  },
  {
   "cell_type": "code",
   "execution_count": 13,
   "id": "70d7ba81",
   "metadata": {},
   "outputs": [
    {
     "data": {
      "image/png": "[encoded data removed]",
      "text/plain": [
       "<Figure size 1000x600 with 1 Axes>"
      ]
     },
     "metadata": {},
     "output_type": "display_data"
    }
   ],
   "source": [
    "#4.\tPlot as bar chart.\n",
    "plt.figure(figsize=(10, 6))\n",
    "dongheun_rainfall_amounts_today.plot(kind='bar', color='gray')\n",
    "plt.title('Rainfall Amounts Today')\n",
    "plt.xlabel('Time')\n",
    "plt.ylabel('Rainfall Amounts')\n",
    "plt.grid(True)\n",
    "plt.show()"
   ]
  },
  {
   "cell_type": "markdown",
   "id": "9d073257",
   "metadata": {},
   "source": [
    "### 3.\tPandas Multi - indexing"
   ]
  },
  {
   "cell_type": "markdown",
   "id": "05627598",
   "metadata": {},
   "source": [
    "dongheun_d5 = dataframe"
   ]
  },
  {
   "cell_type": "code",
   "execution_count": 14,
   "id": "44ee68f1",
   "metadata": {},
   "outputs": [],
   "source": [
    "data = {\n",
    "    'private_name': ['John', 'Anna', 'Peter', 'alice'],\n",
    "    'private_age': [28, 22, 34, 40],\n",
    "    'public_city': ['New York', 'Los Angeles', 'Chicago', 'Houston'],\n",
    "    'public_job': ['Engineer', 'Doctor', 'Teacher', 'Nurse']\n",
    "}\n",
    "\n",
    "d5 = pd.DataFrame(data)\n"
   ]
  },
  {
   "cell_type": "code",
   "execution_count": 15,
   "id": "9d367927",
   "metadata": {},
   "outputs": [],
   "source": [
    "#Make a copy of the dataframe d5 and name it fristname_d5, carryout the following:\n",
    "dongheun_d5 = d5.copy()"
   ]
  },
  {
   "cell_type": "code",
   "execution_count": 16,
   "id": "482f8dff",
   "metadata": {},
   "outputs": [
    {
     "name": "stdout",
     "output_type": "stream",
     "text": [
      "  private_name  private_age\n",
      "0         John           28\n",
      "1         Anna           22\n",
      "2        Peter           34\n",
      "3        alice           40\n"
     ]
    }
   ],
   "source": [
    "#1.\tprint out a dataframe containing all “private” columns\n",
    "private_column = dongheun_d5.filter(like='private')\n",
    "print(private_column)"
   ]
  },
  {
   "cell_type": "code",
   "execution_count": 17,
   "id": "6dcf81ea",
   "metadata": {},
   "outputs": [
    {
     "name": "stdout",
     "output_type": "stream",
     "text": [
      "                     0            1        2        3\n",
      "private_name      John         Anna    Peter    alice\n",
      "private_age         28           22       34       40\n",
      "public_city   New York  Los Angeles  Chicago  Houston\n",
      "public_job    Engineer       Doctor  Teacher    Nurse\n"
     ]
    }
   ],
   "source": [
    "#2.\tSwap the columns and rows (hint: look at transpose) \n",
    "dongheun_d5_transposed = dongheun_d5.transpose()\n",
    "print(dongheun_d5_transposed)"
   ]
  },
  {
   "cell_type": "markdown",
   "id": "7380c94d",
   "metadata": {},
   "source": [
    "### 4. Querying"
   ]
  },
  {
   "cell_type": "code",
   "execution_count": 18,
   "id": "5ebf2259",
   "metadata": {},
   "outputs": [
    {
     "data": {
      "text/html": [
       "<div>\n",
       "<style scoped>\n",
       "    .dataframe tbody tr th:only-of-type {\n",
       "        vertical-align: middle;\n",
       "    }\n",
       "\n",
       "    .dataframe tbody tr th {\n",
       "        vertical-align: top;\n",
       "    }\n",
       "\n",
       "    .dataframe thead th {\n",
       "        text-align: right;\n",
       "    }\n",
       "</style>\n",
       "<table border=\"1\" class=\"dataframe\">\n",
       "  <thead>\n",
       "    <tr style=\"text-align: right;\">\n",
       "      <th></th>\n",
       "      <th>private_name</th>\n",
       "      <th>private_age</th>\n",
       "      <th>public_city</th>\n",
       "      <th>public_job</th>\n",
       "    </tr>\n",
       "  </thead>\n",
       "  <tbody>\n",
       "    <tr>\n",
       "      <th>3</th>\n",
       "      <td>alice</td>\n",
       "      <td>40</td>\n",
       "      <td>Houston</td>\n",
       "      <td>Nurse</td>\n",
       "    </tr>\n",
       "  </tbody>\n",
       "</table>\n",
       "</div>"
      ],
      "text/plain": [
       "  private_name  private_age public_city public_job\n",
       "3        alice           40     Houston      Nurse"
      ]
     },
     "execution_count": 18,
     "metadata": {},
     "output_type": "execute_result"
    }
   ],
   "source": [
    "alice_data = dongheun_d5.query(\"private_name == 'alice'\")\n",
    "alice_data"
   ]
  },
  {
   "cell_type": "markdown",
   "id": "5a9f65e1",
   "metadata": {},
   "source": [
    "### 5. Operations on dataframes"
   ]
  },
  {
   "cell_type": "code",
   "execution_count": 25,
   "id": "11a89a26",
   "metadata": {},
   "outputs": [
    {
     "name": "stdout",
     "output_type": "stream",
     "text": [
      "       April  May  June  July\n",
      "Alice     45   55    65    70\n",
      "Bob       70   10    85    25\n",
      "Carol     35   90    75    95\n",
      "David     90   15    60    70\n"
     ]
    }
   ],
   "source": [
    "students = ['Alice', 'Bob', 'Carol', 'David']\n",
    "months = ['April', 'May', 'June', 'July']\n",
    "grades_data = {\n",
    "    'April': [45, 70, 35, 90],\n",
    "    'May': [55, 10, 90, 15],\n",
    "    'June': [65, 85, 75, 60],\n",
    "    'July': [70, 25, 95, 70]\n",
    "}\n",
    "dongheun_grades = pd.DataFrame(grades_data, index=students, columns=months)\n",
    "print(dongheun_grades)"
   ]
  },
  {
   "cell_type": "code",
   "execution_count": 26,
   "id": "2bba2c9e",
   "metadata": {},
   "outputs": [
    {
     "name": "stdout",
     "output_type": "stream",
     "text": [
      "Average for the month of April: 60.0\n"
     ]
    }
   ],
   "source": [
    "#1.\tPrint out the average for the month of April\n",
    "ave_april = dongheun_grades['April'].mean()\n",
    "print(\"Average for the month of April:\", ave_april)"
   ]
  },
  {
   "cell_type": "code",
   "execution_count": 27,
   "id": "414cd36b",
   "metadata": {},
   "outputs": [
    {
     "name": "stdout",
     "output_type": "stream",
     "text": [
      "Adjusted grades (increased by 2%):\n",
      "       April   May  June  July\n",
      "Alice   45.9  56.1  66.3  71.4\n",
      "Bob     71.4  10.2  86.7  25.5\n",
      "Carol   35.7  91.8  76.5  96.9\n",
      "David   91.8  15.3  61.2  71.4\n"
     ]
    }
   ],
   "source": [
    "#2.\tAdjust all the grades by 2% (i.e. increase)\n",
    "dongheun_grades *= 1.02\n",
    "print(\"Adjusted grades (increased by 2%):\")\n",
    "print(dongheun_grades)"
   ]
  },
  {
   "cell_type": "code",
   "execution_count": 29,
   "id": "8ae98b29",
   "metadata": {},
   "outputs": [
    {
     "name": "stdout",
     "output_type": "stream",
     "text": [
      "Grades for the month of May that are higher than 50%:\n",
      "Alice    56.1\n",
      "Carol    91.8\n",
      "Name: May, dtype: float64\n"
     ]
    }
   ],
   "source": [
    "#3.\tPrintout the grades for the month of may that are higher than 50%\n",
    "may_grades_above_50 = dongheun_grades[dongheun_grades['May'] > 50]['May']\n",
    "print(\"Grades for the month of May that are higher than 50%:\")\n",
    "print(may_grades_above_50)\n"
   ]
  },
  {
   "cell_type": "code",
   "execution_count": 30,
   "id": "4eef0b29",
   "metadata": {},
   "outputs": [
    {
     "name": "stdout",
     "output_type": "stream",
     "text": [
      "Failed Students (average over four months below 50%)\n",
      "Bob    48.45\n",
      "dtype: float64\n"
     ]
    }
   ],
   "source": [
    "#4.\tGroup the failing students i.e. the students with average over four month below 50%\n",
    "average_grades = dongheun_grades.mean(axis=1)\n",
    "failed_students = average_grades[average_grades < 50]\n",
    "print(\"Failed Students (average over four months below 50%)\")\n",
    "print(failed_students)\n"
   ]
  },
  {
   "cell_type": "markdown",
   "id": "42f86213",
   "metadata": {},
   "source": [
    "# Exercise #2 - Numpy"
   ]
  },
  {
   "cell_type": "markdown",
   "id": "86664d36",
   "metadata": {},
   "source": [
    "#### 1. function name"
   ]
  },
  {
   "cell_type": "code",
   "execution_count": 33,
   "id": "2078e9c2",
   "metadata": {},
   "outputs": [
    {
     "data": {
      "text/plain": [
       "array([[[ 0,  0,  0,  0,  0,  0],\n",
       "        [ 0,  0,  0,  0,  0,  0]],\n",
       "\n",
       "       [[ 0,  0,  0,  0,  0,  0],\n",
       "        [12, 12, 12, 12, 12, 12]],\n",
       "\n",
       "       [[ 0,  0,  0,  0,  0,  0],\n",
       "        [24, 24, 24, 24, 24, 24]]], dtype=int8)"
      ]
     },
     "execution_count": 33,
     "metadata": {},
     "output_type": "execute_result"
    }
   ],
   "source": [
    "import numpy as np\n",
    "\n",
    "#Add a cell to create a function and name it  my_function_firstname, where firstname is your first name.\n",
    "\n",
    "#Let the function return an integer value stored in one byte i.e. ‘int8’ of (4x)*(3y). Where x is the number of rows and y is the number of columns.\n",
    "def my_function_dongheun(x, y, z):\n",
    "    return (4 * x) * (3 * y)\n",
    "\n",
    "#Use np.fromfunction() to generate  three elements each are two by six using the  my_fuction_firstname.\n",
    "result_task1 = np.fromfunction(my_function_dongheun, (3,2,6), dtype = int)\n",
    "result_task1 = result_task1.astype(np.int8)\n",
    "\n",
    "result_task1\n"
   ]
  },
  {
   "cell_type": "markdown",
   "id": "0008956b",
   "metadata": {},
   "source": [
    "#### 2.Multi-dimensinal arrays"
   ]
  },
  {
   "cell_type": "code",
   "execution_count": 34,
   "id": "19bda17b",
   "metadata": {},
   "outputs": [
    {
     "data": {
      "text/plain": [
       "array([16, 17, 18])"
      ]
     },
     "execution_count": 34,
     "metadata": {},
     "output_type": "execute_result"
    }
   ],
   "source": [
    "#Inspect the code under this section copy it, add a cell to extract values 16,17,18\n",
    "multi_dim_array = np.array([[[10,11,12,13,14,15],\n",
    "                            [16,17,18,19,20,21]],\n",
    "                            [[22,23,24,25,26,27],\n",
    "                            [28,29,30,31,32,33]]])\n",
    "\n",
    "extracted_values = multi_dim_array[multi_dim_array == 16]\n",
    "extracted_values = np.append(extracted_values, multi_dim_array[multi_dim_array == 17])\n",
    "extracted_values = np.append(extracted_values, multi_dim_array[multi_dim_array == 18])\n",
    "\n",
    "extracted_values\n"
   ]
  },
  {
   "cell_type": "markdown",
   "id": "7fb41cdd",
   "metadata": {},
   "source": [
    "#### 3.Iterating "
   ]
  },
  {
   "cell_type": "code",
   "execution_count": 35,
   "id": "61e66c7e",
   "metadata": {},
   "outputs": [
    {
     "name": "stdout",
     "output_type": "stream",
     "text": [
      "Boolean values for items equivalent to zeros:\n",
      "True\n",
      "False\n",
      "False\n",
      "False\n",
      "True\n",
      "False\n",
      "False\n",
      "False\n",
      "True\n"
     ]
    }
   ],
   "source": [
    "#Inspect the code under this section copy it, then add a cell to iterate over c \n",
    "#and print the Boolean values for items equivalent to zeros.\n",
    "c_array = np.array([[0, 1, 2], [3, 0, 4], [5, 6, 0]])\n",
    "\n",
    "print(\"Boolean values for items equivalent to zeros:\")\n",
    "for row in c_array:\n",
    "    for item in row:\n",
    "        print(item == 0)"
   ]
  },
  {
   "cell_type": "markdown",
   "id": "78ccad56",
   "metadata": {},
   "source": [
    "#### 4.vstack"
   ]
  },
  {
   "cell_type": "code",
   "execution_count": 37,
   "id": "2147f046",
   "metadata": {},
   "outputs": [
    {
     "data": {
      "text/plain": [
       "array([[ 1,  2,  3],\n",
       "       [ 4,  5,  6],\n",
       "       [ 7,  8,  9],\n",
       "       [10, 11, 12]])"
      ]
     },
     "execution_count": 37,
     "metadata": {},
     "output_type": "execute_result"
    }
   ],
   "source": [
    "#Inspect the code under this section copy it, then add a cell to create a variable\n",
    "#name it q5_firstname where firstname is your firstname and vertically stack q1 \n",
    "#and q2 and print the output.\n",
    "\n",
    "q1 = np.array([[1, 2, 3], [4, 5, 6]])\n",
    "q2 = np.array([[7, 8, 9], [10, 11, 12]])\n",
    "\n",
    "q5_dongheun = np.vstack((q1, q2))\n",
    "q5_dongheun"
   ]
  },
  {
   "cell_type": "markdown",
   "id": "2a5de6ac",
   "metadata": {},
   "source": [
    "#### 5.concatenate"
   ]
  },
  {
   "cell_type": "code",
   "execution_count": 38,
   "id": "000d6a96",
   "metadata": {},
   "outputs": [
    {
     "data": {
      "text/plain": [
       "(array([[1, 2, 3],\n",
       "        [4, 5, 6]]),\n",
       " array([[13, 14, 15],\n",
       "        [16, 17, 18]]),\n",
       " array([[ 1,  2,  3],\n",
       "        [ 4,  5,  6],\n",
       "        [13, 14, 15],\n",
       "        [16, 17, 18]]))"
      ]
     },
     "execution_count": 38,
     "metadata": {},
     "output_type": "execute_result"
    }
   ],
   "source": [
    "#Inspect the code under this section copy it, then add a cell to create a\n",
    "#variable name it q8_firstname where firstname is your firstname , concatenate\n",
    "#q1 and q3 and print the results.\n",
    "q3 = np.array([[13, 14, 15], [16, 17, 18]])\n",
    "\n",
    "q8_dongheun = np.concatenate((q1, q3))\n",
    "\n",
    "q1, q3, q8_dongheun"
   ]
  },
  {
   "cell_type": "markdown",
   "id": "31e901f4",
   "metadata": {},
   "source": [
    "#### 6. Transpose "
   ]
  },
  {
   "cell_type": "code",
   "execution_count": 41,
   "id": "083df172",
   "metadata": {},
   "outputs": [
    {
     "name": "stdout",
     "output_type": "stream",
     "text": [
      "Original array (2x7):\n",
      "[[0. 0. 0. 0. 0. 0. 0.]\n",
      " [0. 0. 0. 0. 0. 0. 0.]]\n",
      "\n",
      "Transposed array (7x2):\n",
      "[[0. 0.]\n",
      " [0. 0.]\n",
      " [0. 0.]\n",
      " [0. 0.]\n",
      " [0. 0.]\n",
      " [0. 0.]\n",
      " [0. 0.]]\n"
     ]
    }
   ],
   "source": [
    "#Inspect the code under this section copy it, then add a cell and create a \n",
    "#variable named t_firstname where firstname is your name, let the variable\n",
    "#hold any ndaray size 2 by 7 with zero values, print the result then transpose \n",
    "#and print the result.\n",
    "\n",
    "t_dongheun = np.zeros((2, 7))\n",
    "print(\"Original array (2x7):\")\n",
    "print(t_dongheun)\n",
    "\n",
    "t_dongheun_transposed = t_dongheun.transpose()\n",
    "print(\"\\nTransposed array (7x2):\")\n",
    "print(t_dongheun_transposed)"
   ]
  },
  {
   "cell_type": "markdown",
   "id": "c0844643",
   "metadata": {},
   "source": [
    "#### 7.Matrix multiplication "
   ]
  },
  {
   "cell_type": "code",
   "execution_count": 43,
   "id": "1d5cc28c",
   "metadata": {},
   "outputs": [
    {
     "name": "stdout",
     "output_type": "stream",
     "text": [
      "\n",
      "a1:\n",
      "[[0 1 2 3]\n",
      " [4 5 6 7]]\n",
      "\n",
      "a2:\n",
      "[[0 1]\n",
      " [2 3]\n",
      " [4 5]\n",
      " [6 7]]\n",
      "\n",
      "a3_dongheun (dot product):\n",
      "[[28 34]\n",
      " [76 98]]\n",
      "\n",
      "Shape of a3_dongheun:\n",
      "(2, 2)\n"
     ]
    }
   ],
   "source": [
    "#Inspect the code under this section copy it, then  add a cell to create 2nd arrays \n",
    "#name the first a1 and the second a2. Both arrays should contain numbers in the \n",
    "#range 0 to 7, inclusive . Print a1 and a2. Reshape a1 to a 2 by 4. Reshape a2 \n",
    "#to a 4 by 2. Create a new variable a3 _first name where firstname is your first \n",
    "#name which holds the dot product  of a1 and a2 name it a3 and print the output \n",
    "#of a3_firstname, then the shape of a3_first name.\n",
    "a1 = np.arange(8).reshape(2, 4)\n",
    "a2 = np.arange(8).reshape(4, 2)\n",
    "a3_dongheun = np.dot(a1, a2)\n",
    "\n",
    "print(\"\\na1:\")\n",
    "print(a1)\n",
    "print(\"\\na2:\")\n",
    "print(a2)\n",
    "print(\"\\na3_dongheun (dot product):\")\n",
    "print(a3_dongheun)\n",
    "print(\"\\nShape of a3_dongheun:\")\n",
    "print(a3_dongheun.shape)"
   ]
  },
  {
   "cell_type": "markdown",
   "id": "db8b8d6c",
   "metadata": {},
   "source": [
    "#### 8.Matrix inverse and pseudo-inverse "
   ]
  },
  {
   "cell_type": "code",
   "execution_count": 53,
   "id": "783a8230",
   "metadata": {},
   "outputs": [
    {
     "name": "stdout",
     "output_type": "stream",
     "text": [
      "\n",
      "dongheun_matrix (4x4):\n",
      "[[0.64136465 0.00132161 0.44936247 0.14003732]\n",
      " [0.22205295 0.49398358 0.8603945  0.57545264]\n",
      " [0.74694078 0.30126964 0.31165628 0.20060802]\n",
      " [0.07870461 0.9381349  0.5488288  0.70785214]]\n",
      "\n",
      "Inverse of dongheun_matrix:\n",
      "[[  3.1566103   -2.27686796  -0.84937155   1.46722337]\n",
      " [-15.36161665   8.3225094   11.45082455  -6.9719896 ]\n",
      " [-11.16869227   8.68132461   7.7515507   -7.04480569]\n",
      " [ 28.66775114 -17.50789021 -21.09175374  15.95189333]]\n"
     ]
    }
   ],
   "source": [
    "#Add a cell to create a new 4 by 4 ndaray with values between 0 and 15, name the\n",
    "#variable that holds the array your first name, print the array and the inverse\n",
    "#of the array.\n",
    "import numpy.linalg as linalg\n",
    "dongheun_matrix = np.random.rand(4,4)\n",
    "dongheun_matrix_inverse = np.linalg.inv(dongheun_matrix)\n",
    "\n",
    "print(\"\\ndongheun_matrix (4x4):\")\n",
    "print(dongheun_matrix)\n",
    "print(\"\\nInverse of dongheun_matrix:\")\n",
    "print(dongheun_matrix_inverse)"
   ]
  },
  {
   "cell_type": "markdown",
   "id": "a1435269",
   "metadata": {},
   "source": [
    "#### 9.Identity matrix "
   ]
  },
  {
   "cell_type": "code",
   "execution_count": 54,
   "id": "7d3c296c",
   "metadata": {},
   "outputs": [
    {
     "name": "stdout",
     "output_type": "stream",
     "text": [
      "[[1. 0. 0. 0.]\n",
      " [0. 1. 0. 0.]\n",
      " [0. 0. 1. 0.]\n",
      " [0. 0. 0. 1.]]\n"
     ]
    }
   ],
   "source": [
    "#Add a cell to create a 4 by 4 identity array.\n",
    "identity_matrix = np.eye(4)\n",
    "print(identity_matrix)"
   ]
  },
  {
   "cell_type": "markdown",
   "id": "6c35e208",
   "metadata": {},
   "source": [
    "#### 10.Determinant "
   ]
  },
  {
   "cell_type": "code",
   "execution_count": 56,
   "id": "506d5b18",
   "metadata": {},
   "outputs": [
    {
     "name": "stdout",
     "output_type": "stream",
     "text": [
      "\n",
      "Random 3x3 Matrix:\n",
      "[[0.55713269 0.35888985 0.76968487]\n",
      " [0.27088665 0.0118426  0.67108737]\n",
      " [0.47146034 0.2930713  0.99326639]]\n",
      "\n",
      "Determinant of the Matrix:\n",
      "-0.02922850142863991\n"
     ]
    }
   ],
   "source": [
    "#Add a cell to create a 3 by 3 matrix with values generated randomly then \n",
    "#printout the determinant of the matrix.\n",
    "random_matrix = np.random.rand(3,3)\n",
    "determinant = np.linalg.det(random_matrix)\n",
    "\n",
    "print(\"\\nRandom 3x3 Matrix:\")\n",
    "print(random_matrix)\n",
    "print(\"\\nDeterminant of the Matrix:\")\n",
    "print(determinant)"
   ]
  },
  {
   "cell_type": "markdown",
   "id": "580874fe",
   "metadata": {},
   "source": [
    "#### 11.Eigenvalues and eigenvectors"
   ]
  },
  {
   "cell_type": "code",
   "execution_count": 58,
   "id": "2275920d",
   "metadata": {},
   "outputs": [
    {
     "name": "stdout",
     "output_type": "stream",
     "text": [
      "e_dongheun (4x4 Random Matrix):\n",
      "[[0.06657611 0.65783264 0.15114237 0.1275392 ]\n",
      " [0.38536234 0.19105431 0.55095612 0.47663628]\n",
      " [0.1872434  0.21449032 0.2461605  0.69902933]\n",
      " [0.30803185 0.10880256 0.6987738  0.58771316]]\n",
      "Eigenvalues:\n",
      "[ 1.46117947  0.24674265 -0.40870431 -0.20771373]\n",
      "Eigenvectors:\n",
      "[[-0.36086362 -0.83486157 -0.59213493  0.75610126]\n",
      " [-0.53990709 -0.35299449  0.44666957 -0.2310236 ]\n",
      " [-0.48695809  0.26090649 -0.47859081 -0.56527291]\n",
      " [-0.58408013  0.33215788  0.46990781  0.23538377]]\n"
     ]
    }
   ],
   "source": [
    "#Add a cell to create a 4 by 4 matrix with values generated randomly, assign the\n",
    "#matrix to a variable named e_firstname. Printout the Eigenvalue and eigenvectors\n",
    "#of the matrix.\n",
    "\n",
    "e_dongheun = np.random.rand(4,4)\n",
    "eigenvalues, eigenvectors = np.linalg.eig(e_dongheun)\n",
    "\n",
    "print(\"e_dongheun (4x4 Random Matrix):\")\n",
    "print(e_dongheun)\n",
    "print(\"Eigenvalues:\")\n",
    "print(eigenvalues)\n",
    "print(\"Eigenvectors:\")\n",
    "print(eigenvectors)"
   ]
  },
  {
   "cell_type": "markdown",
   "id": "b7f23e8e",
   "metadata": {},
   "source": [
    "#### 12. Solving a system of linear scalar equations"
   ]
  },
  {
   "cell_type": "code",
   "execution_count": 59,
   "id": "08a36b0e",
   "metadata": {},
   "outputs": [
    {
     "name": "stdout",
     "output_type": "stream",
     "text": [
      "Solution to the linear equation:\n",
      "\n",
      "[ 8.  -0.7 -1.2]\n",
      "\n",
      "Check with allclose method: True\n"
     ]
    }
   ],
   "source": [
    "#Add a cell to solve the following linear equations:\n",
    "#2x+4y+z =12\n",
    "#3x+8y+2z =16\n",
    "#X+2y+3z = 3\n",
    "#Check the results using the allcolse method.\n",
    "\n",
    "coefficients = np.array([[2,4,1], [3,8,2], [1,2,3]])\n",
    "constants = np.array([12,16,3])\n",
    "solution = np.linalg.solve(coefficients, constants)\n",
    "\n",
    "print(\"Solution to the linear equation:\\n\")\n",
    "print(solution)\n",
    "\n",
    "check = np.allclose(np.dot(coefficients, solution), constants)\n",
    "print(\"\\nCheck with allclose method:\", check)"
   ]
  },
  {
   "cell_type": "markdown",
   "id": "58195887",
   "metadata": {},
   "source": [
    "# Exercise #3 Matplotlib"
   ]
  },
  {
   "cell_type": "markdown",
   "id": "fb3571fe",
   "metadata": {},
   "source": [
    "#### 1.Plotting your first graph "
   ]
  },
  {
   "cell_type": "code",
   "execution_count": 61,
   "id": "07c244b9",
   "metadata": {},
   "outputs": [
    {
     "data": {
      "image/png": "[encoded data removed]",
      "text/plain": [
       "<Figure size 1000x600 with 1 Axes>"
      ]
     },
     "metadata": {},
     "output_type": "display_data"
    }
   ],
   "source": [
    "import matplotlib.pyplot as plt\n",
    "\n",
    "x = np.linspace(-4, 4, 1000)\n",
    "z = np.linspace(-5, 5, 1000)\n",
    "y = x**2 + z**3 + 6\n",
    "\n",
    "plt.figure(figsize = (10, 6))\n",
    "plt.plot(x, y, label='y=x^2 + z^3 + 6')\n",
    "plt.title(\"polynomial_dongheun\")\n",
    "plt.xlabel(\"x axis\")\n",
    "plt.ylabel(\"y axis\")\n",
    "plt.legend()\n",
    "plt.show()"
   ]
  },
  {
   "cell_type": "markdown",
   "id": "f6c5e904",
   "metadata": {},
   "source": [
    "#### 2.Subplots "
   ]
  },
  {
   "cell_type": "code",
   "execution_count": 62,
   "id": "5fc40b04",
   "metadata": {},
   "outputs": [
    {
     "data": {
      "image/png": "[encoded data removed]",
      "text/plain": [
       "<Figure size 1200x800 with 6 Axes>"
      ]
     },
     "metadata": {},
     "output_type": "display_data"
    }
   ],
   "source": [
    "# Creating the figure\n",
    "fig = plt.figure(figsize=(12, 8))\n",
    "\n",
    "# First row: function x^2 in a dashed green line\n",
    "ax1 = plt.subplot2grid((4, 4), (0, 0), colspan=4)\n",
    "x = np.linspace(0, 1, 100)\n",
    "ax1.plot(x, x**2, 'g--')  # Dashed green line\n",
    "ax1.set_title(\"Function x^2\")\n",
    "\n",
    "# Second row: function x^3 in yellow and x^4 in red spanning three columns\n",
    "ax2 = plt.subplot2grid((4, 4), (1, 0))\n",
    "ax2.plot(x, x**3, 'y')  # Yellow line\n",
    "ax2.set_title(\"Function x^3\")\n",
    "\n",
    "ax3 = plt.subplot2grid((4, 4), (1, 1), colspan=3)\n",
    "ax3.plot(x, x**4, 'r')  # Red line\n",
    "ax3.set_title(\"Function x^4\")\n",
    "\n",
    "# Third row: X^6 in a dashed blue and X=x in magenta spanning two columns\n",
    "ax4 = plt.subplot2grid((4, 4), (2, 0), colspan=2)\n",
    "ax4.plot(x, x**6, 'b--')  # Dashed blue line\n",
    "ax4.set_title(\"Function x^6\")\n",
    "\n",
    "ax5 = plt.subplot2grid((4, 4), (2, 2), colspan=2)\n",
    "ax5.plot(x, x, 'm')  # Magenta line\n",
    "ax5.set_title(\"Function X=x\")\n",
    "\n",
    "# Fourth row: function x^7 in dotted red spanning all columns\n",
    "ax6 = plt.subplot2grid((4, 4), (3, 0), colspan=4)\n",
    "ax6.plot(x, x**7, 'r:')  # Dotted red line\n",
    "ax6.set_title(\"Function x^7\")\n",
    "\n",
    "# Adjust layout\n",
    "plt.tight_layout()\n",
    "plt.show()"
   ]
  },
  {
   "cell_type": "markdown",
   "id": "70a92960",
   "metadata": {},
   "source": [
    "#### 3. Drawing text "
   ]
  },
  {
   "cell_type": "code",
   "execution_count": 65,
   "id": "8c38ccaf",
   "metadata": {},
   "outputs": [
    {
     "data": {
      "image/png": "[encoded data removed]",
      "text/plain": [
       "<Figure size 800x500 with 1 Axes>"
      ]
     },
     "metadata": {},
     "output_type": "display_data"
    }
   ],
   "source": [
    "fig = plt.figure(figsize=(8, 5))\n",
    "x = np.linspace(-4,4,1000)\n",
    "y = x**2\n",
    "plt.plot(x, y, label='y = x^2', color='blue')\n",
    "\n",
    "beautiful_x = 0\n",
    "beautiful_y = beautiful_x**2\n",
    "plt.scatter(beautiful_x, beautiful_y, color='red', label='Beautiful point')\n",
    "plt.text(beautiful_x, beautiful_y, f' ({beautiful_x}, {beautiful_y})', color='red')\n",
    "\n",
    "new_point_x = 3\n",
    "new_point_y = new_point_x**2\n",
    "plt.scatter(new_point_x, new_point_y, color='red', label='new point_dongheun')\n",
    "plt.text(new_point_x, new_point_y, f' ({new_point_x}, {new_point_y})', color='red')\n",
    "\n",
    "new_point_x = 3\n",
    "new_point_y = new_point_x**2\n",
    "plt.scatter(new_point_x, new_point_y, color='red', label='New point_dongheun')\n",
    "plt.text(new_point_x, new_point_y, f' ({new_point_x}, {new_point_y})', color='red')\n",
    "\n",
    "plt.title('Square function y = x^2')\n",
    "plt.xlabel('x')\n",
    "plt.ylabel('y')\n",
    "\n",
    "# Adding a legend\n",
    "plt.legend()\n",
    "\n",
    "# Showing the plot\n",
    "plt.show()"
   ]
  },
  {
   "cell_type": "code",
   "execution_count": null,
   "id": "1ae78340",
   "metadata": {},
   "outputs": [],
   "source": []
  }
 ],
 "metadata": {
  "kernelspec": {
   "display_name": "Python 3 (ipykernel)",
   "language": "python",
   "name": "python3"
  },
  "language_info": {
   "codemirror_mode": {
    "name": "ipython",
    "version": 3
   },
   "file_extension": ".py",
   "mimetype": "text/x-python",
   "name": "python",
   "nbconvert_exporter": "python",
   "pygments_lexer": "ipython3",
   "version": "3.11.5"
  }
 },
 "nbformat": 4,
 "nbformat_minor": 5
}
